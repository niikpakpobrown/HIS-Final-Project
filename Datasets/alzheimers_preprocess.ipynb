{
 "cells": [
  {
   "cell_type": "code",
   "execution_count": 81,
   "metadata": {},
   "outputs": [],
   "source": [
    "import pandas as pd\n",
    "from sklearn.model_selection import train_test_split"
   ]
  },
  {
   "cell_type": "markdown",
   "metadata": {},
   "source": [
    "#### Data Pre-processing\n",
    "1. Select only data in the United States from the original dataset\n",
    "2. Reset index, rename columns, and look through the dataframe\n",
    "3. Store the data in the United States into a csv file\n",
    "4. Split the U.S. dataset into training and testing dataset (1000:250), others stored to use for demo"
   ]
  },
  {
   "cell_type": "markdown",
   "metadata": {},
   "source": [
    "##### 1. Select only data in the United States from the original dataset"
   ]
  },
  {
   "cell_type": "code",
   "execution_count": 82,
   "metadata": {},
   "outputs": [
    {
     "name": "stdout",
     "output_type": "stream",
     "text": [
      "3616\n"
     ]
    }
   ],
   "source": [
    "data = pd.read_csv('alzheimers_prediction_dataset.csv')\n",
    "usa = data[data['Country'] == 'USA']\n",
    "print(len(data[data['Country'] == 'USA']))"
   ]
  },
  {
   "cell_type": "markdown",
   "metadata": {},
   "source": [
    "##### 2. Reset index, rename columns, and look through the dataframe"
   ]
  },
  {
   "cell_type": "code",
   "execution_count": 83,
   "metadata": {},
   "outputs": [
    {
     "name": "stdout",
     "output_type": "stream",
     "text": [
      "--------- Head of the dataframe ---------\n",
      "    Country  Age  Gender  Education Level   BMI Physical Activity Level Smoking Status Alcohol Consumption Diabetes Hypertension Cholesterol Level Family History of Alzheimer’s  Cognitive Test Score Depression Level Sleep Quality Dietary Habits Air Pollution Exposure Employment Status Marital Status Genetic Risk Factor (APOE-ε4 allele) Social Engagement Level Income Level Stress Levels Urban vs Rural Living Alzheimer’s Diagnosis\n",
      "16     USA   61  Female               13  33.1                  Medium         Former               Never       No          Yes              High                            No                    51             High          Good        Healthy                   High          Employed        Married                                   No                    High          Low           Low                 Urban                    No\n",
      "75     USA   55    Male               16  29.9                  Medium         Former        Occasionally       No           No              High                            No                    48           Medium          Poor        Healthy                    Low           Retired        Widowed                                   No                     Low       Medium           Low                 Rural                    No\n",
      "78     USA   72    Male                2  31.5                     Low         Former           Regularly       No           No            Normal                            No                    75             High          Poor        Average                   High          Employed        Widowed                                   No                    High         High        Medium                 Urban                    No\n",
      "87     USA   57  Female                0  30.7                     Low        Current           Regularly       No          Yes              High                           Yes                    58             High          Good      Unhealthy                    Low          Employed         Single                                   No                    High       Medium        Medium                 Rural                    No\n",
      "97     USA   69  Female               12  19.7                    High         Former           Regularly       No           No              High                            No                    83           Medium          Good        Average                 Medium           Retired        Married                                   No                     Low       Medium           Low                 Urban                    No\n",
      "\n",
      "-------- The shape of the usa dataset --------\n",
      " (3616, 25)\n",
      "\n",
      "-------- Columns of the usa dataset --------\n",
      " Index(['Country', 'Age', 'Gender', 'Education Level', 'BMI', 'Physical Activity Level',\n",
      "       'Smoking Status', 'Alcohol Consumption', 'Diabetes', 'Hypertension', 'Cholesterol Level',\n",
      "       'Family History of Alzheimer’s', 'Cognitive Test Score', 'Depression Level',\n",
      "       'Sleep Quality', 'Dietary Habits', 'Air Pollution Exposure', 'Employment Status',\n",
      "       'Marital Status', 'Genetic Risk Factor (APOE-ε4 allele)', 'Social Engagement Level',\n",
      "       'Income Level', 'Stress Levels', 'Urban vs Rural Living', 'Alzheimer’s Diagnosis'],\n",
      "      dtype='object')\n"
     ]
    }
   ],
   "source": [
    "# Check dataset\n",
    "pd.set_option('display.expand_frame_repr', False)\n",
    "pd.set_option('display.width', 100)\n",
    "print('--------- Head of the dataframe ---------\\n', usa.head())\n",
    "print('\\n-------- The shape of the usa dataset --------\\n', usa.shape)\n",
    "print('\\n-------- Columns of the usa dataset --------\\n',usa.columns)"
   ]
  },
  {
   "cell_type": "code",
   "execution_count": 84,
   "metadata": {},
   "outputs": [],
   "source": [
    "# Reset index\n",
    "usa.reset_index(drop = True, inplace = True)\n",
    "usa.index = range(1, len(usa) + 1) "
   ]
  },
  {
   "cell_type": "code",
   "execution_count": 85,
   "metadata": {},
   "outputs": [
    {
     "name": "stderr",
     "output_type": "stream",
     "text": [
      "/var/folders/3x/l24krrq13yscf55fq7grlg9h0000gn/T/ipykernel_58445/1194403113.py:2: SettingWithCopyWarning: \n",
      "A value is trying to be set on a copy of a slice from a DataFrame\n",
      "\n",
      "See the caveats in the documentation: https://pandas.pydata.org/pandas-docs/stable/user_guide/indexing.html#returning-a-view-versus-a-copy\n",
      "  usa.rename(columns = {\"Alzheimer’s Diagnosis\": \"Alzheimer's Diagnosis\"}, inplace = True)\n"
     ]
    }
   ],
   "source": [
    "# Rename column: 'Alzheimer’s Diagnosis'\n",
    "usa.rename(columns = {\"Alzheimer’s Diagnosis\": \"Alzheimer's Diagnosis\"}, inplace = True)\n"
   ]
  },
  {
   "cell_type": "markdown",
   "metadata": {},
   "source": [
    "##### 3. Store the data in the United States into a csv file"
   ]
  },
  {
   "cell_type": "code",
   "execution_count": 86,
   "metadata": {},
   "outputs": [],
   "source": [
    "usa.to_csv('alzheimers_prediction_dataset_usa.csv') # replace the old csv with the new one if the file already exists"
   ]
  },
  {
   "cell_type": "markdown",
   "metadata": {},
   "source": [
    "##### 4. Split the U.S. dataset into training and testing dataset (1000:250), others stored to use for demo"
   ]
  },
  {
   "cell_type": "code",
   "execution_count": 87,
   "metadata": {},
   "outputs": [
    {
     "name": "stdout",
     "output_type": "stream",
     "text": [
      "Alzheimer's Diagnosis\n",
      "No     2211\n",
      "Yes    1405\n",
      "dtype: int64\n"
     ]
    }
   ],
   "source": [
    "print(usa.groupby(\"Alzheimer's Diagnosis\").size())"
   ]
  },
  {
   "cell_type": "code",
   "execution_count": 95,
   "metadata": {},
   "outputs": [],
   "source": [
    "train_df, remaining_df = train_test_split(usa, train_size = 1000, stratify = usa['Alzheimer\\'s Diagnosis'], random_state = 33)\n",
    "test_df, demo_df = train_test_split(remaining_df, train_size = 250, stratify = remaining_df['Alzheimer\\'s Diagnosis'], random_state = 33)"
   ]
  },
  {
   "cell_type": "code",
   "execution_count": 96,
   "metadata": {},
   "outputs": [
    {
     "name": "stdout",
     "output_type": "stream",
     "text": [
      "-------- Original dataset's yes/no count --------\n",
      "Alzheimer's Diagnosis\n",
      "No     0.611449\n",
      "Yes    0.388551\n",
      "Name: proportion, dtype: float64\n",
      "\n",
      "-------- Training dataset's yes/no count --------\n",
      "Alzheimer's Diagnosis\n",
      "No     0.611\n",
      "Yes    0.389\n",
      "Name: proportion, dtype: float64\n",
      "\n",
      "-------- Testing dataset's yes/no count --------\n",
      "Alzheimer's Diagnosis\n",
      "No     0.612\n",
      "Yes    0.388\n",
      "Name: proportion, dtype: float64\n"
     ]
    }
   ],
   "source": [
    "print(\"-------- Original dataset's yes/no count --------\")\n",
    "print(usa['Alzheimer\\'s Diagnosis'].value_counts(normalize=True))\n",
    "\n",
    "print(\"\\n-------- Training dataset's yes/no count --------\")\n",
    "print(train_df['Alzheimer\\'s Diagnosis'].value_counts(normalize=True))\n",
    "\n",
    "print(\"\\n-------- Testing dataset's yes/no count --------\")\n",
    "print(test_df['Alzheimer\\'s Diagnosis'].value_counts(normalize=True))"
   ]
  },
  {
   "cell_type": "code",
   "execution_count": 97,
   "metadata": {},
   "outputs": [
    {
     "name": "stdout",
     "output_type": "stream",
     "text": [
      "Size of training set 1000\n",
      "Size of testing set: 250\n",
      "Size of remaining dataset for demo 2366\n"
     ]
    }
   ],
   "source": [
    "print(\"Size of training set\", train_df.shape[0])\n",
    "print(\"Size of testing set:\", test_df.shape[0])\n",
    "print(\"Size of remaining dataset for demo\", demo_df.shape[0])"
   ]
  },
  {
   "cell_type": "code",
   "execution_count": 98,
   "metadata": {},
   "outputs": [],
   "source": [
    "train_df.to_csv('training_dataset.csv')\n",
    "test_df.to_csv('testing_dataset.csv')\n",
    "demo_df.to_csv('demo_dataset.csv')"
   ]
  }
 ],
 "metadata": {
  "kernelspec": {
   "display_name": "base",
   "language": "python",
   "name": "python3"
  },
  "language_info": {
   "codemirror_mode": {
    "name": "ipython",
    "version": 3
   },
   "file_extension": ".py",
   "mimetype": "text/x-python",
   "name": "python",
   "nbconvert_exporter": "python",
   "pygments_lexer": "ipython3",
   "version": "3.12.8"
  }
 },
 "nbformat": 4,
 "nbformat_minor": 2
}
